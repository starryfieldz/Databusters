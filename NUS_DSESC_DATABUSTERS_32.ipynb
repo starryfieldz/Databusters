{
  "cells": [
    {
      "cell_type": "markdown",
      "metadata": {
        "id": "view-in-github",
        "colab_type": "text"
      },
      "source": [
        "<a href=\"https://colab.research.google.com/github/starryfieldz/Databusters/blob/main/NUS_DSESC_DATABUSTERS_32.ipynb\" target=\"_parent\"><img src=\"https://colab.research.google.com/assets/colab-badge.svg\" alt=\"Open In Colab\"/></a>"
      ]
    },
    {
      "cell_type": "markdown",
      "metadata": {
        "id": "Ac7I8Cn1uCXl"
      },
      "source": [
        "## 1) Libraries Installation\n",
        "##### The cell below is to help you keep track the libraries used and install them quickly.\n",
        "##### Ensure the correct library names are used, and follow the syntax: **%pip install PACKAGE_NAME**."
      ]
    },
    {
      "cell_type": "markdown",
      "source": [],
      "metadata": {
        "id": "DJrvhwAvCzMn"
      }
    },
    {
      "cell_type": "code",
      "execution_count": 9,
      "metadata": {
        "id": "a4GYYh8ruCXl",
        "colab": {
          "base_uri": "https://localhost:8080/"
        },
        "outputId": "8b28c79e-b2b9-4586-c907-ccbd4a5facf0"
      },
      "outputs": [
        {
          "output_type": "stream",
          "name": "stdout",
          "text": [
            "Requirement already satisfied: rpy2 in /usr/local/lib/python3.11/dist-packages (3.4.2)\n",
            "Requirement already satisfied: cffi>=1.10.0 in /usr/local/lib/python3.11/dist-packages (from rpy2) (1.17.1)\n",
            "Requirement already satisfied: jinja2 in /usr/local/lib/python3.11/dist-packages (from rpy2) (3.1.5)\n",
            "Requirement already satisfied: pytz in /usr/local/lib/python3.11/dist-packages (from rpy2) (2025.1)\n",
            "Requirement already satisfied: tzlocal in /usr/local/lib/python3.11/dist-packages (from rpy2) (5.2)\n",
            "Requirement already satisfied: pycparser in /usr/local/lib/python3.11/dist-packages (from cffi>=1.10.0->rpy2) (2.22)\n",
            "Requirement already satisfied: MarkupSafe>=2.0 in /usr/local/lib/python3.11/dist-packages (from jinja2->rpy2) (3.0.2)\n"
          ]
        }
      ],
      "source": [
        "import rpy2.robjects as robjects\n",
        "!pip install rpy2\n",
        "%load_ext rpy2.ipython\n"
      ]
    },
    {
      "cell_type": "markdown",
      "source": [],
      "metadata": {
        "id": "tWLDCIZVOKxB"
      }
    },
    {
      "cell_type": "markdown",
      "metadata": {
        "id": "0dW6s07OuCXm"
      },
      "source": [
        "## 2) Main Section for Code\n",
        "### **ALL code for machine learning and dataset analysis** should be entered below.\n",
        "##### Ensure that your code is clear and readable.\n",
        "##### Remember to include comments and markdown notes as necessary to explain and highlight important segments of your code."
      ]
    },
    {
      "cell_type": "code",
      "execution_count": 11,
      "metadata": {
        "id": "EyoqPn4nuCXm",
        "colab": {
          "base_uri": "https://localhost:8080/",
          "height": 311
        },
        "outputId": "8a4de4c5-a152-459d-cc91-eb805819ce83"
      },
      "outputs": [
        {
          "output_type": "error",
          "ename": "MessageError",
          "evalue": "Error: credential propagation was unsuccessful",
          "traceback": [
            "\u001b[0;31m---------------------------------------------------------------------------\u001b[0m",
            "\u001b[0;31mMessageError\u001b[0m                              Traceback (most recent call last)",
            "\u001b[0;32m<ipython-input-11-d5df0069828e>\u001b[0m in \u001b[0;36m<cell line: 0>\u001b[0;34m()\u001b[0m\n\u001b[1;32m      1\u001b[0m \u001b[0;32mfrom\u001b[0m \u001b[0mgoogle\u001b[0m\u001b[0;34m.\u001b[0m\u001b[0mcolab\u001b[0m \u001b[0;32mimport\u001b[0m \u001b[0mdrive\u001b[0m\u001b[0;34m\u001b[0m\u001b[0;34m\u001b[0m\u001b[0m\n\u001b[0;32m----> 2\u001b[0;31m \u001b[0mdrive\u001b[0m\u001b[0;34m.\u001b[0m\u001b[0mmount\u001b[0m\u001b[0;34m(\u001b[0m\u001b[0;34m'/content/drive'\u001b[0m\u001b[0;34m)\u001b[0m\u001b[0;34m\u001b[0m\u001b[0;34m\u001b[0m\u001b[0m\n\u001b[0m",
            "\u001b[0;32m/usr/local/lib/python3.11/dist-packages/google/colab/drive.py\u001b[0m in \u001b[0;36mmount\u001b[0;34m(mountpoint, force_remount, timeout_ms, readonly)\u001b[0m\n\u001b[1;32m     98\u001b[0m \u001b[0;32mdef\u001b[0m \u001b[0mmount\u001b[0m\u001b[0;34m(\u001b[0m\u001b[0mmountpoint\u001b[0m\u001b[0;34m,\u001b[0m \u001b[0mforce_remount\u001b[0m\u001b[0;34m=\u001b[0m\u001b[0;32mFalse\u001b[0m\u001b[0;34m,\u001b[0m \u001b[0mtimeout_ms\u001b[0m\u001b[0;34m=\u001b[0m\u001b[0;36m120000\u001b[0m\u001b[0;34m,\u001b[0m \u001b[0mreadonly\u001b[0m\u001b[0;34m=\u001b[0m\u001b[0;32mFalse\u001b[0m\u001b[0;34m)\u001b[0m\u001b[0;34m:\u001b[0m\u001b[0;34m\u001b[0m\u001b[0;34m\u001b[0m\u001b[0m\n\u001b[1;32m     99\u001b[0m   \u001b[0;34m\"\"\"Mount your Google Drive at the specified mountpoint path.\"\"\"\u001b[0m\u001b[0;34m\u001b[0m\u001b[0;34m\u001b[0m\u001b[0m\n\u001b[0;32m--> 100\u001b[0;31m   return _mount(\n\u001b[0m\u001b[1;32m    101\u001b[0m       \u001b[0mmountpoint\u001b[0m\u001b[0;34m,\u001b[0m\u001b[0;34m\u001b[0m\u001b[0;34m\u001b[0m\u001b[0m\n\u001b[1;32m    102\u001b[0m       \u001b[0mforce_remount\u001b[0m\u001b[0;34m=\u001b[0m\u001b[0mforce_remount\u001b[0m\u001b[0;34m,\u001b[0m\u001b[0;34m\u001b[0m\u001b[0;34m\u001b[0m\u001b[0m\n",
            "\u001b[0;32m/usr/local/lib/python3.11/dist-packages/google/colab/drive.py\u001b[0m in \u001b[0;36m_mount\u001b[0;34m(mountpoint, force_remount, timeout_ms, ephemeral, readonly)\u001b[0m\n\u001b[1;32m    135\u001b[0m   )\n\u001b[1;32m    136\u001b[0m   \u001b[0;32mif\u001b[0m \u001b[0mephemeral\u001b[0m\u001b[0;34m:\u001b[0m\u001b[0;34m\u001b[0m\u001b[0;34m\u001b[0m\u001b[0m\n\u001b[0;32m--> 137\u001b[0;31m     _message.blocking_request(\n\u001b[0m\u001b[1;32m    138\u001b[0m         \u001b[0;34m'request_auth'\u001b[0m\u001b[0;34m,\u001b[0m\u001b[0;34m\u001b[0m\u001b[0;34m\u001b[0m\u001b[0m\n\u001b[1;32m    139\u001b[0m         \u001b[0mrequest\u001b[0m\u001b[0;34m=\u001b[0m\u001b[0;34m{\u001b[0m\u001b[0;34m'authType'\u001b[0m\u001b[0;34m:\u001b[0m \u001b[0;34m'dfs_ephemeral'\u001b[0m\u001b[0;34m}\u001b[0m\u001b[0;34m,\u001b[0m\u001b[0;34m\u001b[0m\u001b[0;34m\u001b[0m\u001b[0m\n",
            "\u001b[0;32m/usr/local/lib/python3.11/dist-packages/google/colab/_message.py\u001b[0m in \u001b[0;36mblocking_request\u001b[0;34m(request_type, request, timeout_sec, parent)\u001b[0m\n\u001b[1;32m    174\u001b[0m       \u001b[0mrequest_type\u001b[0m\u001b[0;34m,\u001b[0m \u001b[0mrequest\u001b[0m\u001b[0;34m,\u001b[0m \u001b[0mparent\u001b[0m\u001b[0;34m=\u001b[0m\u001b[0mparent\u001b[0m\u001b[0;34m,\u001b[0m \u001b[0mexpect_reply\u001b[0m\u001b[0;34m=\u001b[0m\u001b[0;32mTrue\u001b[0m\u001b[0;34m\u001b[0m\u001b[0;34m\u001b[0m\u001b[0m\n\u001b[1;32m    175\u001b[0m   )\n\u001b[0;32m--> 176\u001b[0;31m   \u001b[0;32mreturn\u001b[0m \u001b[0mread_reply_from_input\u001b[0m\u001b[0;34m(\u001b[0m\u001b[0mrequest_id\u001b[0m\u001b[0;34m,\u001b[0m \u001b[0mtimeout_sec\u001b[0m\u001b[0;34m)\u001b[0m\u001b[0;34m\u001b[0m\u001b[0;34m\u001b[0m\u001b[0m\n\u001b[0m",
            "\u001b[0;32m/usr/local/lib/python3.11/dist-packages/google/colab/_message.py\u001b[0m in \u001b[0;36mread_reply_from_input\u001b[0;34m(message_id, timeout_sec)\u001b[0m\n\u001b[1;32m    101\u001b[0m     ):\n\u001b[1;32m    102\u001b[0m       \u001b[0;32mif\u001b[0m \u001b[0;34m'error'\u001b[0m \u001b[0;32min\u001b[0m \u001b[0mreply\u001b[0m\u001b[0;34m:\u001b[0m\u001b[0;34m\u001b[0m\u001b[0;34m\u001b[0m\u001b[0m\n\u001b[0;32m--> 103\u001b[0;31m         \u001b[0;32mraise\u001b[0m \u001b[0mMessageError\u001b[0m\u001b[0;34m(\u001b[0m\u001b[0mreply\u001b[0m\u001b[0;34m[\u001b[0m\u001b[0;34m'error'\u001b[0m\u001b[0;34m]\u001b[0m\u001b[0;34m)\u001b[0m\u001b[0;34m\u001b[0m\u001b[0;34m\u001b[0m\u001b[0m\n\u001b[0m\u001b[1;32m    104\u001b[0m       \u001b[0;32mreturn\u001b[0m \u001b[0mreply\u001b[0m\u001b[0;34m.\u001b[0m\u001b[0mget\u001b[0m\u001b[0;34m(\u001b[0m\u001b[0;34m'data'\u001b[0m\u001b[0;34m,\u001b[0m \u001b[0;32mNone\u001b[0m\u001b[0;34m)\u001b[0m\u001b[0;34m\u001b[0m\u001b[0;34m\u001b[0m\u001b[0m\n\u001b[1;32m    105\u001b[0m \u001b[0;34m\u001b[0m\u001b[0m\n",
            "\u001b[0;31mMessageError\u001b[0m: Error: credential propagation was unsuccessful"
          ]
        }
      ],
      "source": [
        "# from google.colab import drive\n",
        "# drive.mount('/content/drive')"
      ]
    },
    {
      "cell_type": "code",
      "source": [
        "%load_ext rpy2.ipython"
      ],
      "metadata": {
        "id": "BrCpOc2cYVOT",
        "colab": {
          "base_uri": "https://localhost:8080/"
        },
        "outputId": "ddee3443-9b54-474d-f07b-68d6bd541dbf"
      },
      "execution_count": 16,
      "outputs": [
        {
          "output_type": "stream",
          "name": "stdout",
          "text": [
            "The rpy2.ipython extension is already loaded. To reload it, use:\n",
            "  %reload_ext rpy2.ipython\n"
          ]
        }
      ]
    },
    {
      "cell_type": "markdown",
      "metadata": {
        "id": "N_03OJuQuCXm"
      },
      "source": [
        "#### Remember to rename your file name to **NUS_DSESC_DATABUSTERS_XX.ipynb** and ensure that it can run successfully. Good luck and have fun!"
      ]
    },
    {
      "cell_type": "code",
      "source": [
        "%%R\n",
        "dataset = read.csv('Quarterly Data.csv')"
      ],
      "metadata": {
        "id": "UnAOBnWVYWiZ",
        "colab": {
          "base_uri": "https://localhost:8080/"
        },
        "outputId": "d1d7c294-5247-4718-986d-4239b9307f1e"
      },
      "execution_count": 18,
      "outputs": [
        {
          "output_type": "stream",
          "name": "stderr",
          "text": [
            "WARNING:rpy2.rinterface_lib.callbacks:R[write to console]: Error in file(file, \"rt\") : cannot open the connection\n",
            "\n",
            "WARNING:rpy2.rinterface_lib.callbacks:R[write to console]: In addition: \n",
            "WARNING:rpy2.rinterface_lib.callbacks:R[write to console]: Warning message:\n",
            "\n",
            "WARNING:rpy2.rinterface_lib.callbacks:R[write to console]: In file(file, \"rt\") :\n",
            "WARNING:rpy2.rinterface_lib.callbacks:R[write to console]: \n",
            " \n",
            "WARNING:rpy2.rinterface_lib.callbacks:R[write to console]:  cannot open file 'Quarterly Data.csv': No such file or directory\n",
            "\n"
          ]
        },
        {
          "output_type": "stream",
          "name": "stdout",
          "text": [
            "\n",
            "Error in file(file, \"rt\") : cannot open the connection\n"
          ]
        }
      ]
    },
    {
      "cell_type": "code",
      "source": [
        "%%R\n",
        "# load necessary libraries\n",
        "library(ggplot2)\n",
        "library(readr)\n",
        "library(dplyr)\n",
        "library(tidyr)\n",
        "library(scales)"
      ],
      "metadata": {
        "colab": {
          "base_uri": "https://localhost:8080/"
        },
        "id": "hvu3POEQPPQl",
        "outputId": "84dbb009-2f64-41cc-8e96-1cfc218d61d5"
      },
      "execution_count": 14,
      "outputs": [
        {
          "output_type": "stream",
          "name": "stderr",
          "text": [
            "WARNING:rpy2.rinterface_lib.callbacks:R[write to console]: \n",
            "Attaching package: ‘dplyr’\n",
            "\n",
            "\n",
            "WARNING:rpy2.rinterface_lib.callbacks:R[write to console]: The following objects are masked from ‘package:stats’:\n",
            "\n",
            "    filter, lag\n",
            "\n",
            "\n",
            "WARNING:rpy2.rinterface_lib.callbacks:R[write to console]: The following objects are masked from ‘package:base’:\n",
            "\n",
            "    intersect, setdiff, setequal, union\n",
            "\n",
            "\n",
            "WARNING:rpy2.rinterface_lib.callbacks:R[write to console]: \n",
            "Attaching package: ‘scales’\n",
            "\n",
            "\n",
            "WARNING:rpy2.rinterface_lib.callbacks:R[write to console]: The following object is masked from ‘package:readr’:\n",
            "\n",
            "    col_factor\n",
            "\n",
            "\n"
          ]
        }
      ]
    },
    {
      "cell_type": "code",
      "source": [
        "%%R\n",
        "# Template code for plotting predictor against time (With economic contractions highlighted)\n",
        "\n",
        "# The following code is for IPCONGD\n",
        "# load the dataset\n",
        "data <- read_csv(\"Quarterly Data.csv\")\n",
        "\n",
        "# remove metadata rows\n",
        "data <- data[-c(1,2), ]\n",
        "\n",
        "# convert 'sasdate' column to proper Date format\n",
        "data$sasdate <- as.Date(data$sasdate, format=\"%m/%d/%Y\")\n",
        "\n",
        "# ensure all columns are numeric (except date)\n",
        "data <- data %>% mutate(across(where(is.character), as.numeric))\n",
        "\n",
        "# compute GDP growth as the response variable\n",
        "data <- data %>% mutate(GDP_growth = (GDPC1 - lag(GDPC1)) / lag(GDPC1) * 100)\n",
        "\n",
        "# remove first row (which contains NA from lag function)\n",
        "data <- data[-1, ]\n",
        "\n",
        "# define binary contraction indicator (1 if GDP growth is negative, 0 otherwise)\n",
        "data <- data %>% mutate(Econ_Contraction = ifelse(GDP_growth < 0, 1, 0))\n",
        "\n",
        "# identify start and end of contraction periods\n",
        "data <- data %>%\n",
        "  mutate(\n",
        "    contraction_start = ifelse(Econ_Contraction == 1 & lag(Econ_Contraction, default = 0) == 0, sasdate, NA),\n",
        "    contraction_end = ifelse(Econ_Contraction == 1 & lead(Econ_Contraction, default = 0) == 0, sasdate, NA)\n",
        "  )\n",
        "\n",
        "# ensure contraction_start and contraction_end are Dates before filling\n",
        "data <- data %>%\n",
        "  mutate(\n",
        "    contraction_start = as.Date(contraction_start, origin = \"1970-01-01\"),\n",
        "    contraction_end = as.Date(contraction_end, origin = \"1970-01-01\")\n",
        "  )\n",
        "\n",
        "# extract start and end dates for contraction periods\n",
        "contraction_periods <- data %>%\n",
        "  filter(!is.na(contraction_start) | !is.na(contraction_end)) %>%\n",
        "  select(contraction_start, contraction_end) %>%\n",
        "  tidyr::fill(contraction_start, .direction = \"down\") %>%\n",
        "  tidyr::fill(contraction_end, .direction = \"up\") %>%\n",
        "  filter(!is.na(contraction_start) & !is.na(contraction_end)) %>%\n",
        "  distinct()\n",
        "\n",
        "# ensure single-quarter contractions are visible\n",
        "contraction_periods <- contraction_periods %>%\n",
        "  mutate(\n",
        "    contraction_end = ifelse(contraction_start == contraction_end, contraction_end + 30, contraction_end)\n",
        "  )\n",
        "\n",
        "# ensure contraction periods are correctly formatted as Dates AFTER fill()\n",
        "contraction_periods <- contraction_periods %>%\n",
        "  mutate(\n",
        "    contraction_start = as.Date(contraction_start, origin = \"1970-01-01\"),\n",
        "    contraction_end = as.Date(contraction_end, origin = \"1970-01-01\")\n",
        "  )\n",
        "\n",
        "# plot IPCONGD against time with economic contractions highlighted\n",
        "ggplot(data, aes(x = sasdate, y = IPCONGD)) +\n",
        "  # Highlight periods of economic contraction\n",
        "  geom_rect(data = contraction_periods,\n",
        "            aes(xmin = contraction_start, xmax = contraction_end, ymin = -Inf, ymax = Inf),\n",
        "            inherit.aes = FALSE, fill = \"red\", alpha = 0.2) +\n",
        "\n",
        "  # Plot IPCONGD as a line\n",
        "  geom_line(color = \"blue\", size = 1) +\n",
        "\n",
        "  # Fix the X-axis to show proper years\n",
        "  scale_x_date(date_breaks = \"5 years\", date_labels = \"%Y\") +\n",
        "\n",
        "  # Format Y-axis with comma separators\n",
        "  scale_y_continuous(labels = scales::comma) +\n",
        "\n",
        "  # Add title, labels, and theme\n",
        "  labs(\n",
        "    title = \"Industrial Production: Consumer Goods Over Time (Index 2017=100)\",\n",
        "    subtitle = \"Quarterly Data with Economic Contractions Highlighted\",\n",
        "    x = \"Year\",\n",
        "    y = \"Industrial Production: Consumer Goods (Index 2017=100)\",\n",
        "    color = \"Legend\"\n",
        "  ) +\n",
        "  theme_minimal() +\n",
        "  theme(\n",
        "    plot.title = element_text(size = 16, face = \"bold\"),\n",
        "    plot.subtitle = element_text(size = 12),\n",
        "    axis.title = element_text(size = 14),\n",
        "    axis.text = element_text(size = 12)\n",
        "  )\n",
        "\n"
      ],
      "metadata": {
        "colab": {
          "base_uri": "https://localhost:8080/"
        },
        "id": "OTZwTOMwN7bf",
        "outputId": "044ed451-085f-45dc-8596-e629f6ed1189"
      },
      "execution_count": 15,
      "outputs": [
        {
          "output_type": "stream",
          "name": "stderr",
          "text": [
            "WARNING:rpy2.rinterface_lib.callbacks:R[write to console]: Error: 'Quarterly Data.csv' does not exist in current working directory ('/content').\n",
            "\n"
          ]
        },
        {
          "output_type": "stream",
          "name": "stdout",
          "text": [
            "\n",
            "Error: 'Quarterly Data.csv' does not exist in current working directory ('/content').\n"
          ]
        }
      ]
    },
    {
      "cell_type": "code",
      "source": [],
      "metadata": {
        "id": "A-017boAPM9P"
      },
      "execution_count": null,
      "outputs": []
    },
    {
      "cell_type": "code",
      "source": [
        "# Forecasting the next 4 quarters with ARIMAX, as well as testing GDP Growth for stationarity\n",
        "# load necessary libraries\n",
        "library(readr)\n",
        "library(dplyr)\n",
        "library(lubridate)\n",
        "library(forecast)\n",
        "library(ggplot2)\n",
        "library(tseries)\n",
        "\n",
        "# load the dataset\n",
        "data <- read_csv(\"Quarterly Data.csv\")\n",
        "\n",
        "# remove metadata rows\n",
        "data <- data[-c(1,2), ]\n",
        "\n",
        "# convert 'sasdate' column to Date format\n",
        "data$sasdate <- as.Date(data$sasdate, format=\"%m/%d/%Y\")\n",
        "\n",
        "# ensure all columns are numeric (except 'sasdate')\n",
        "data <- data %>% mutate(across(where(is.character), as.numeric))\n",
        "\n",
        "# compute GDP growth as the response variable\n",
        "data <- data %>% mutate(GDP_growth = (GDPC1 - lag(GDPC1)) / lag(GDPC1) * 100)\n",
        "\n",
        "# remove first row (which contains NA from lag function)\n",
        "data <- data[-1, ]\n",
        "\n",
        "# convert GDP Growth to Time Series\n",
        "gdp_ts <- ts(data$GDP_growth, start = c(year(min(data$sasdate)), quarter(min(data$sasdate))), frequency = 4)\n",
        "\n",
        "# perform Augmented Dickey-Fuller (ADF) Test\n",
        "adf_result <- adf.test(gdp_ts)\n",
        "\n",
        "# print ADF Test Result\n",
        "print(adf_result)\n",
        "\n",
        "# define the selected predictors\n",
        "predictors <- c(\"A014RE1Q156NBEA\", \"IPDCONGD\", \"IPB51110SQ\", \"UEMPLT5\",\n",
        "                \"UEMP15T26\", \"HOUSTMW\", \"BAA10YM\", \"VIXCLSx\", \"AAAFFM\",\n",
        "                \"TNWMVBSNNCBx\", \"CLAIMSx\", \"PERMITMW\", \"OILPRICEx\", \"PRFIx\")\n",
        "\n",
        "# keep only the available predictors\n",
        "available_predictors <- predictors[predictors %in% colnames(data)]\n",
        "\n",
        "# compute PRFIx_percent_change manually if PRFIx exists\n",
        "if (\"PRFIx\" %in% available_predictors) {\n",
        "  data <- data %>% mutate(PRFIx_percent_change = (PRFIx - lag(PRFIx)) / lag(PRFIx) * 100)\n",
        "  available_predictors <- c(setdiff(available_predictors, \"PRFIx\"), \"PRFIx_percent_change\")\n",
        "}\n",
        "\n",
        "# remove NA values after computing percent change\n",
        "data <- na.omit(data)\n",
        "\n",
        "# prepare the dataset\n",
        "X <- data %>% select(all_of(available_predictors))\n",
        "y <- data$GDP_growth\n",
        "\n",
        "# convert data to time series format\n",
        "gdp_ts <- ts(y, start = c(year(min(data$sasdate)), quarter(min(data$sasdate))), frequency = 4)\n",
        "X_ts <- ts(X, start = c(year(min(data$sasdate)), quarter(min(data$sasdate))), frequency = 4)\n",
        "\n",
        "# fit an ARIMAX model (ARIMA with exogenous variables)\n",
        "arimax_model <- auto.arima(gdp_ts, xreg = X_ts, seasonal = TRUE, stepwise = FALSE, approximation = FALSE)\n",
        "\n",
        "# print model summary\n",
        "summary(arimax_model)\n",
        "\n",
        "# forecast GDP growth for Q1 2025, Q2 2025, Q3 2025, Q4 2025\n",
        "future_quarters <- 4  # Forecasting up to 4 quarters ahead\n",
        "\n",
        "# generate future dates\n",
        "future_dates <- seq(max(data$sasdate) + months(3), by = \"quarter\", length.out = future_quarters)\n",
        "\n",
        "# correctly structure future_X to match required rows\n",
        "future_X <- data.frame(matrix(ncol = length(available_predictors), nrow = future_quarters))\n",
        "colnames(future_X) <- available_predictors\n",
        "\n",
        "# predict future values using linear regression\n",
        "for (col in available_predictors) {\n",
        "  model <- lm(data[[col]] ~ as.numeric(data$sasdate))  # Fit a linear model\n",
        "  future_X[[col]] <- predict(model, newdata = data.frame(sasdate = as.numeric(future_dates)))[1:future_quarters]\n",
        "}\n",
        "\n",
        "# forecasting with the ARIMAX model\n",
        "forecast_values <- forecast(arimax_model, xreg = as.matrix(future_X), h = future_quarters)\n",
        "\n",
        "# extract forecasted values\n",
        "forecast_gdp_growth <- data.frame(\n",
        "  Quarter = c(\"Q1 2025\", \"Q2 2025\", \"Q3 2025\", \"Q4 2025\"),\n",
        "  Predicted_GDP_Growth = forecast_values$mean\n",
        ")\n",
        "\n",
        "# print forecasted GDP growth\n",
        "print(forecast_gdp_growth)\n",
        "\n",
        "# create forecast plot\n",
        "forecast_df <- data.frame(\n",
        "  Date = future_dates,\n",
        "  Predicted_GDP_Growth = forecast_values$mean\n",
        ")\n",
        "\n",
        "# merge actual data and forecast\n",
        "actual_df <- data.frame(Date = data$sasdate, GDP_growth = y)\n",
        "plot_data <- bind_rows(actual_df %>% rename(Predicted_GDP_Growth = GDP_growth), forecast_df)\n",
        "\n",
        "# extract forecasted values and confidence intervals\n",
        "forecast_gdp_growth <- data.frame(\n",
        "  Date = future_dates,\n",
        "  Predicted_GDP_Growth = forecast_values$mean,\n",
        "  Lower_80 = forecast_values$lower[,1],  # 80% lower bound\n",
        "  Upper_80 = forecast_values$upper[,1],  # 80% upper bound\n",
        "  Lower_95 = forecast_values$lower[,2],  # 95% lower bound\n",
        "  Upper_95 = forecast_values$upper[,2]   # 95% upper bound\n",
        ")\n",
        "\n",
        "# merge actual data and forecast\n",
        "actual_df <- data.frame(Date = data$sasdate, GDP_growth = y)\n",
        "plot_data <- bind_rows(actual_df %>% rename(Predicted_GDP_Growth = GDP_growth), forecast_gdp_growth)\n",
        "\n",
        "# plot historical and forecasted GDP growth with confidence intervals\n",
        "ggplot(plot_data, aes(x = Date, y = Predicted_GDP_Growth)) +\n",
        "  geom_line(color = \"blue\") +\n",
        "  geom_point(color = \"blue\") +\n",
        "  # Confidence interval 95% (wider range)\n",
        "  geom_ribbon(data = forecast_gdp_growth, aes(ymin = Lower_95, ymax = Upper_95), fill = \"gray70\", alpha = 0.4) +\n",
        "  # Confidence interval 80% (narrower range)\n",
        "  geom_ribbon(data = forecast_gdp_growth, aes(ymin = Lower_80, ymax = Upper_80), fill = \"gray50\", alpha = 0.4) +\n",
        "  # Forecasted values\n",
        "  geom_point(data = forecast_gdp_growth, aes(x = Date, y = Predicted_GDP_Growth), color = \"red\", size = 3) +\n",
        "  geom_line(data = forecast_gdp_growth, aes(x = Date, y = Predicted_GDP_Growth), color = \"red\", linetype = \"dashed\") +\n",
        "  labs(title = \"GDP Growth Forecast using ARIMAX with Confidence Intervals\",\n",
        "       x = \"Date\", y = \"GDP Growth (%)\",\n",
        "       caption = \"Red points indicate forecasted values.\\nShaded areas represent 80% and 95% confidence intervals.\") +\n",
        "  theme_minimal()\n",
        "\n",
        "# print forecasted GDP growth with confidence intervals\n",
        "forecast_output <- data.frame(\n",
        "  Quarter = c(\"Q1 2025\", \"Q2 2025\", \"Q3 2025\", \"Q4 2025\"),\n",
        "  Predicted_GDP_Growth = forecast_values$mean,\n",
        "  Lower_80 = forecast_values$lower[,1],  # 80% confidence lower bound\n",
        "  Upper_80 = forecast_values$upper[,1],  # 80% confidence upper bound\n",
        "  Lower_95 = forecast_values$lower[,2],  # 95% confidence lower bound\n",
        "  Upper_95 = forecast_values$upper[,2]   # 95% confidence upper bound\n",
        ")\n",
        "\n",
        "# print the results\n",
        "print(forecast_output)\n"
      ],
      "metadata": {
        "id": "h4f6KeHtfJjq",
        "outputId": "123a2dce-2a6d-45d6-a512-c17d99a0e662",
        "colab": {
          "base_uri": "https://localhost:8080/",
          "height": 108
        }
      },
      "execution_count": null,
      "outputs": [
        {
          "output_type": "error",
          "ename": "ERROR",
          "evalue": "Error in library(forecast): there is no package called ‘forecast’\n",
          "traceback": [
            "Error in library(forecast): there is no package called ‘forecast’\nTraceback:\n",
            "1. stop(packageNotFoundError(package, lib.loc, sys.call()))"
          ]
        }
      ]
    },
    {
      "cell_type": "code",
      "source": [],
      "metadata": {
        "id": "8jHQP4657EDo"
      },
      "execution_count": null,
      "outputs": []
    }
  ],
  "metadata": {
    "kernelspec": {
      "display_name": "Python 3",
      "name": "python3"
    },
    "language_info": {
      "name": "python"
    },
    "colab": {
      "provenance": [],
      "include_colab_link": true
    }
  },
  "nbformat": 4,
  "nbformat_minor": 0
}